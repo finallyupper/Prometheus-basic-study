{
 "cells": [
  {
   "cell_type": "markdown",
   "id": "698c9161",
   "metadata": {},
   "source": [
    "**2277007 김수진 2277021 오유진**"
   ]
  },
  {
   "cell_type": "markdown",
   "id": "6bd335db",
   "metadata": {},
   "source": [
    "### MNIST 필기체 숫자 인식 코드\n",
    "### Sequential, Functional,  Model Subclassing으로 코딩하기"
   ]
  },
  {
   "cell_type": "code",
   "execution_count": 1,
   "id": "7251fd68",
   "metadata": {},
   "outputs": [
    {
     "name": "stdout",
     "output_type": "stream",
     "text": [
      "2.10.0\n",
      "2.10.0\n"
     ]
    }
   ],
   "source": [
    "from __future__ import absolute_import\n",
    "from __future__ import division\n",
    "from __future__ import print_function\n",
    "\n",
    "import tensorflow as tf\n",
    "from tensorflow import keras\n",
    "from tensorflow.keras.utils import to_categorical\n",
    "import numpy as np\n",
    "import matplotlib.pyplot as plt\n",
    "import os\n",
    "\n",
    "print(tf.__version__)\n",
    "print(keras.__version__)"
   ]
  },
  {
   "cell_type": "code",
   "execution_count": 2,
   "id": "cdbb5a60",
   "metadata": {},
   "outputs": [],
   "source": [
    "learning_rate = 0.001\n",
    "epochs = 15\n",
    "#training_epochs = 15\n",
    "batch_size = 100\n",
    "\n",
    "tf.random.set_seed(777)"
   ]
  },
  {
   "cell_type": "code",
   "execution_count": 3,
   "id": "70627c38",
   "metadata": {},
   "outputs": [],
   "source": [
    "#mnist 데이터\n",
    "mnist = keras.datasets.mnist\n",
    "class_names = ['0', '1', '2', '3', '4', '5', '6', '7', '8', '9']"
   ]
  },
  {
   "cell_type": "code",
   "execution_count": 4,
   "id": "1b61d104",
   "metadata": {},
   "outputs": [
    {
     "name": "stdout",
     "output_type": "stream",
     "text": [
      "(60000, 28, 28) (10000, 28, 28)\n"
     ]
    }
   ],
   "source": [
    "#Datasets\n",
    "(X_train, y_train), (X_test, y_test) = mnist.load_data()    \n",
    "\n",
    "X_train = X_train.astype(np.float32) / 255\n",
    "X_test = X_test.astype(np.float32) / 255\n",
    "\n",
    "print(X_train.shape, X_test.shape) #3차원 데이터"
   ]
  },
  {
   "cell_type": "code",
   "execution_count": 5,
   "id": "de82755f",
   "metadata": {},
   "outputs": [],
   "source": [
    "#CNN 입력값은 4차원이여야 하므로 차원을 하나 추가함\n",
    "X_train = np.expand_dims(X_train, axis=-1)\n",
    "X_test = np.expand_dims(X_test, axis=-1)\n",
    "\n",
    "#Y 데이터 원-핫 인코딩(0,1로만 표현하고자함)\n",
    "y_train = to_categorical(y_train, 10)\n",
    "y_test = to_categorical(y_test, 10)   "
   ]
  },
  {
   "cell_type": "code",
   "execution_count": 6,
   "id": "f7c03a69",
   "metadata": {},
   "outputs": [],
   "source": [
    "#훈련데이터 batch_size 만큼 잘라서 shuffle해서 데이터셋에 넣음\n",
    "train_dataset = tf.data.Dataset.from_tensor_slices((X_train, y_train)).shuffle(\n",
    "                buffer_size=100000).batch(batch_size)\n",
    "\n",
    "test_dataset = tf.data.Dataset.from_tensor_slices((X_test, y_test)).batch(batch_size)"
   ]
  },
  {
   "cell_type": "markdown",
   "id": "33774d38",
   "metadata": {},
   "source": [
    "# 1. Sequential"
   ]
  },
  {
   "cell_type": "markdown",
   "id": "c613a738",
   "metadata": {},
   "source": [
    "순차적 학습을 하는 모델링(레이어를 하나하나씩 추가해야함)"
   ]
  },
  {
   "cell_type": "markdown",
   "id": "afb027c1",
   "metadata": {},
   "source": [
    "Sequential API allows you to create models layer-by-layer by stacking them. It is limited in that it does not allow you to create models that share layers or have multiple inputs or outputs."
   ]
  },
  {
   "cell_type": "markdown",
   "id": "a87184cb",
   "metadata": {},
   "source": [
    "fully-connected layer = 두 단    \n",
    "convolution =  3x3  \n",
    "stride= 1  \n",
    "padding = same  \n",
    "max pooling = 2x2,   \n",
    "strid e= 2,  \n",
    "padding = same  "
   ]
  },
  {
   "cell_type": "code",
   "execution_count": 7,
   "id": "62e06c2f",
   "metadata": {},
   "outputs": [],
   "source": [
    "from tensorflow.keras import Sequential\n",
    "from tensorflow.keras.layers import Conv2D, MaxPool2D, Flatten, Dense, Dropout"
   ]
  },
  {
   "cell_type": "code",
   "execution_count": 8,
   "id": "4f4c6ee8",
   "metadata": {},
   "outputs": [],
   "source": [
    "#define a function\n",
    "def create_model():\n",
    "    model = Sequential() \n",
    "    model.add(keras.layers.Conv2D(filters=32, kernel_size=3, activation=tf.nn.relu, padding='SAME', \n",
    "                                  input_shape=(28, 28, 1))) #X_train.shape = (60000, 28, 28)이므로 input_shape=(28,28)\n",
    "    model.add(keras.layers.MaxPool2D(padding='SAME')) #디폴트가 padding='VALID'이므로 변경\n",
    "    model.add(keras.layers.Conv2D(filters=64, kernel_size=3, activation=tf.nn.relu, padding='SAME'))\n",
    "    model.add(keras.layers.MaxPool2D(padding='SAME'))\n",
    "    model.add(keras.layers.Conv2D(filters=128, kernel_size=3, activation=tf.nn.relu, padding='SAME'))\n",
    "    model.add(keras.layers.MaxPool2D(padding='SAME'))\n",
    "    \n",
    "    model.add(keras.layers.Flatten()) #feature map을 벡터를 펴주는 작업으로하기위해 Flatten사용\n",
    "    model.add(keras.layers.Dense(256, activation=tf.nn.relu))\n",
    "    model.add(keras.layers.Dropout(0.4)) #convolution에비해 파라미터가 많아서 Dropout 사용\n",
    "    model.add(keras.layers.Dense(10))\n",
    "    return model"
   ]
  },
  {
   "cell_type": "code",
   "execution_count": 9,
   "id": "f7048254",
   "metadata": {},
   "outputs": [],
   "source": [
    "model = create_model() "
   ]
  },
  {
   "cell_type": "code",
   "execution_count": 10,
   "id": "bc701043",
   "metadata": {},
   "outputs": [
    {
     "name": "stdout",
     "output_type": "stream",
     "text": [
      "Model: \"sequential\"\n",
      "_________________________________________________________________\n",
      " Layer (type)                Output Shape              Param #   \n",
      "=================================================================\n",
      " conv2d (Conv2D)             (None, 28, 28, 32)        320       \n",
      "                                                                 \n",
      " max_pooling2d (MaxPooling2D  (None, 14, 14, 32)       0         \n",
      " )                                                               \n",
      "                                                                 \n",
      " conv2d_1 (Conv2D)           (None, 14, 14, 64)        18496     \n",
      "                                                                 \n",
      " max_pooling2d_1 (MaxPooling  (None, 7, 7, 64)         0         \n",
      " 2D)                                                             \n",
      "                                                                 \n",
      " conv2d_2 (Conv2D)           (None, 7, 7, 128)         73856     \n",
      "                                                                 \n",
      " max_pooling2d_2 (MaxPooling  (None, 4, 4, 128)        0         \n",
      " 2D)                                                             \n",
      "                                                                 \n",
      " flatten (Flatten)           (None, 2048)              0         \n",
      "                                                                 \n",
      " dense (Dense)               (None, 256)               524544    \n",
      "                                                                 \n",
      " dropout (Dropout)           (None, 256)               0         \n",
      "                                                                 \n",
      " dense_1 (Dense)             (None, 10)                2570      \n",
      "                                                                 \n",
      "=================================================================\n",
      "Total params: 619,786\n",
      "Trainable params: 619,786\n",
      "Non-trainable params: 0\n",
      "_________________________________________________________________\n"
     ]
    },
    {
     "data": {
      "image/png": "[encoded data removed]",
      "text/plain": [
       "<IPython.core.display.Image object>"
      ]
     },
     "execution_count": 10,
     "metadata": {},
     "output_type": "execute_result"
    }
   ],
   "source": [
    "model.summary() \n",
    "tf.keras.utils.plot_model(model, \"myModel.png\", show_shapes=True)"
   ]
  },
  {
   "cell_type": "code",
   "execution_count": 12,
   "id": "6bc9a704",
   "metadata": {
    "scrolled": true
   },
   "outputs": [
    {
     "name": "stdout",
     "output_type": "stream",
     "text": [
      "Epoch: 1 loss = 0.06398869 train accuracy =  0.9865 test accuracy =  0.9900\n",
      "Epoch: 2 loss = 0.03537028 train accuracy =  0.9927 test accuracy =  0.9925\n",
      "Epoch: 3 loss = 0.02522959 train accuracy =  0.9950 test accuracy =  0.9935\n",
      "Epoch: 4 loss = 0.01897597 train accuracy =  0.9963 test accuracy =  0.9918\n",
      "Epoch: 5 loss = 0.01505488 train accuracy =  0.9973 test accuracy =  0.9924\n",
      "Epoch: 6 loss = 0.01291355 train accuracy =  0.9979 test accuracy =  0.9929\n",
      "Epoch: 7 loss = 0.01052132 train accuracy =  0.9983 test accuracy =  0.9924\n",
      "Epoch: 8 loss = 0.00797717 train accuracy =  0.9988 test accuracy =  0.9923\n",
      "Epoch: 9 loss = 0.00731937 train accuracy =  0.9989 test accuracy =  0.9931\n",
      "Epoch: 10 loss = 0.00607583 train accuracy =  0.9992 test accuracy =  0.9926\n",
      "Epoch: 11 loss = 0.00542428 train accuracy =  0.9994 test accuracy =  0.9919\n",
      "Epoch: 12 loss = 0.00587102 train accuracy =  0.9993 test accuracy =  0.9934\n",
      "Epoch: 13 loss = 0.00492342 train accuracy =  0.9994 test accuracy =  0.9952\n",
      "Epoch: 14 loss = 0.00511740 train accuracy =  0.9993 test accuracy =  0.9932\n",
      "Epoch: 15 loss = 0.00343882 train accuracy =  0.9996 test accuracy =  0.9909\n"
     ]
    }
   ],
   "source": [
    "#Loss Function\n",
    "def loss_fn(model, images, labels):\n",
    "    logits = model(images, training=True)\n",
    "    loss = tf.reduce_mean(tf.keras.losses.categorical_crossentropy(\n",
    "        y_pred=logits, y_true=labels, from_logits=True))     \n",
    "    return loss   \n",
    "\n",
    "# Calculating Gradient\n",
    "def grad(model, images, labels):\n",
    "    with tf.GradientTape() as tape:\n",
    "        loss = loss_fn(model, images, labels)\n",
    "    return tape.gradient(loss, model.variables)\n",
    "\n",
    "# Caculating Model's Accuracy\n",
    "def evaluate(model, images, labels):\n",
    "    logits = model(images, training=False)\n",
    "    correct_prediction = tf.equal(tf.argmax(logits, 1), tf.argmax(labels, 1))\n",
    "    accuracy = tf.reduce_mean(tf.cast(correct_prediction, tf.float32))\n",
    "    return accuracy\n",
    "\n",
    "# select a optimizer\n",
    "optimizer = tf.keras.optimizers.Adam(learning_rate=learning_rate)\n",
    "#Training\n",
    "def train(model, images, labels):\n",
    "    grads = grad(model, images, labels)\n",
    "    optimizer.apply_gradients(zip(grads, model.trainable_variables))\n",
    "\n",
    "#이중 for문으로 학습\n",
    "for epoch in range(epochs):\n",
    "    avg_loss = 0.\n",
    "    avg_train_acc = 0.\n",
    "    avg_test_acc = 0.\n",
    "    train_step = 0\n",
    "    test_step = 0\n",
    "    \n",
    "    for images, labels in train_dataset:\n",
    "        train(model, images, labels)\n",
    "        #grads = grad(model, images, labels)                \n",
    "        #optimizer.apply_gradients(zip(grads, model.variables))\n",
    "        loss = loss_fn(model, images, labels)\n",
    "        acc = evaluate(model, images, labels)\n",
    "        avg_loss = avg_loss + loss\n",
    "        avg_train_acc = avg_train_acc + acc\n",
    "        train_step += 1\n",
    "    avg_loss = avg_loss / train_step\n",
    "    avg_train_acc = avg_train_acc / train_step\n",
    "    \n",
    "    #test_set으로 evaluate하자.\n",
    "    for images, labels in test_dataset:        \n",
    "        acc = evaluate(model, images, labels)        \n",
    "        avg_test_acc = avg_test_acc + acc\n",
    "        test_step += 1    \n",
    "    avg_test_acc = avg_test_acc / test_step    \n",
    "\n",
    "    print('Epoch:', '{}'.format(epoch + 1), 'loss =', '{:.8f}'.format(avg_loss), \n",
    "          'train accuracy = ', '{:.4f}'.format(avg_train_acc), \n",
    "          'test accuracy = ', '{:.4f}'.format(avg_test_acc))"
   ]
  },
  {
   "cell_type": "markdown",
   "id": "e5967a71",
   "metadata": {},
   "source": [
    "# 2. Functional"
   ]
  },
  {
   "cell_type": "markdown",
   "id": "c718114a",
   "metadata": {},
   "source": [
    "- Sequential 방식과의 차별점 = inception, residual connections **돌아와 덧셈**하도록 구현 가능    \n",
    "- 코드에서 따로 레이어를 명시해야함."
   ]
  },
  {
   "cell_type": "markdown",
   "id": "8cece630",
   "metadata": {},
   "source": [
    "Keras functional API provides a more flexibility as you can easily defines models where layers connect to more than just the previous and next layers, and you can connect layers to any other layers. As a result, you can create complex network such as Residual Network."
   ]
  },
  {
   "cell_type": "code",
   "execution_count": 13,
   "id": "dbf0fdbb",
   "metadata": {},
   "outputs": [],
   "source": [
    "#define function\n",
    "def create_model():\n",
    "    inputs = keras.Input(shape=(28, 28, 1))\n",
    "    # ()=레이어에서 사용할 입력 레이어\n",
    "    conv1 = keras.layers.Conv2D(filters=32, kernel_size=[3, 3], padding='SAME', activation=tf.nn.relu)(inputs)\n",
    "    pool1 = keras.layers.MaxPool2D(padding='SAME')(conv1) #conv1 layer들어감\n",
    "    \n",
    "    conv2 = keras.layers.Conv2D(filters=64, kernel_size=[3, 3], padding='SAME',\n",
    "                                activation=tf.nn.relu)(pool1)  #pool1 layer들어감\n",
    "    pool2 = keras.layers.MaxPool2D(padding='SAME')(conv2)\n",
    "    \n",
    "    conv3 = keras.layers.Conv2D(filters=128, kernel_size=[3, 3], padding='SAME', activation=tf.nn.relu)(pool2)\n",
    "    pool3 = keras.layers.MaxPool2D(padding='SAME')(conv3)\n",
    "    pool3_flat = keras.layers.Flatten()(pool3)\n",
    "    \n",
    "    dense4 = keras.layers.Dense(units=256, activation=tf.nn.relu)(pool3_flat)\n",
    "    drop4 = keras.layers.Dropout(rate=0.4)(dense4)\n",
    "    logits = keras.layers.Dense(units=10)(drop4)\n",
    "    return keras.Model(inputs=inputs, outputs=logits)"
   ]
  },
  {
   "cell_type": "code",
   "execution_count": 14,
   "id": "f9b43e7b",
   "metadata": {
    "scrolled": true
   },
   "outputs": [],
   "source": [
    "model = create_model()"
   ]
  },
  {
   "cell_type": "code",
   "execution_count": 15,
   "id": "09116ee1",
   "metadata": {},
   "outputs": [
    {
     "name": "stdout",
     "output_type": "stream",
     "text": [
      "Model: \"model\"\n",
      "_________________________________________________________________\n",
      " Layer (type)                Output Shape              Param #   \n",
      "=================================================================\n",
      " input_1 (InputLayer)        [(None, 28, 28, 1)]       0         \n",
      "                                                                 \n",
      " conv2d_3 (Conv2D)           (None, 28, 28, 32)        320       \n",
      "                                                                 \n",
      " max_pooling2d_3 (MaxPooling  (None, 14, 14, 32)       0         \n",
      " 2D)                                                             \n",
      "                                                                 \n",
      " conv2d_4 (Conv2D)           (None, 14, 14, 64)        18496     \n",
      "                                                                 \n",
      " max_pooling2d_4 (MaxPooling  (None, 7, 7, 64)         0         \n",
      " 2D)                                                             \n",
      "                                                                 \n",
      " conv2d_5 (Conv2D)           (None, 7, 7, 128)         73856     \n",
      "                                                                 \n",
      " max_pooling2d_5 (MaxPooling  (None, 4, 4, 128)        0         \n",
      " 2D)                                                             \n",
      "                                                                 \n",
      " flatten_1 (Flatten)         (None, 2048)              0         \n",
      "                                                                 \n",
      " dense_2 (Dense)             (None, 256)               524544    \n",
      "                                                                 \n",
      " dropout_1 (Dropout)         (None, 256)               0         \n",
      "                                                                 \n",
      " dense_3 (Dense)             (None, 10)                2570      \n",
      "                                                                 \n",
      "=================================================================\n",
      "Total params: 619,786\n",
      "Trainable params: 619,786\n",
      "Non-trainable params: 0\n",
      "_________________________________________________________________\n"
     ]
    },
    {
     "data": {
      "image/png": "[encoded data removed]",
      "text/plain": [
       "<IPython.core.display.Image object>"
      ]
     },
     "execution_count": 15,
     "metadata": {},
     "output_type": "execute_result"
    }
   ],
   "source": [
    "model.summary()\n",
    "tf.keras.utils.plot_model(model, \"myModel.png\", show_shapes=True)"
   ]
  },
  {
   "cell_type": "code",
   "execution_count": 16,
   "id": "b9b0e63f",
   "metadata": {
    "scrolled": true
   },
   "outputs": [
    {
     "name": "stdout",
     "output_type": "stream",
     "text": [
      "Epoch: 1 loss = 0.17879005 train accuracy =  0.9569 test accuracy =  0.9869\n",
      "Epoch: 2 loss = 0.04589628 train accuracy =  0.9898 test accuracy =  0.9918\n",
      "Epoch: 3 loss = 0.03174786 train accuracy =  0.9933 test accuracy =  0.9919\n",
      "Epoch: 4 loss = 0.02234513 train accuracy =  0.9955 test accuracy =  0.9905\n",
      "Epoch: 5 loss = 0.01783769 train accuracy =  0.9968 test accuracy =  0.9907\n",
      "Epoch: 6 loss = 0.01486329 train accuracy =  0.9972 test accuracy =  0.9931\n",
      "Epoch: 7 loss = 0.01153251 train accuracy =  0.9980 test accuracy =  0.9931\n",
      "Epoch: 8 loss = 0.01128532 train accuracy =  0.9981 test accuracy =  0.9931\n",
      "Epoch: 9 loss = 0.00913853 train accuracy =  0.9989 test accuracy =  0.9911\n",
      "Epoch: 10 loss = 0.00802765 train accuracy =  0.9988 test accuracy =  0.9927\n",
      "Epoch: 11 loss = 0.00673225 train accuracy =  0.9991 test accuracy =  0.9932\n",
      "Epoch: 12 loss = 0.00547430 train accuracy =  0.9994 test accuracy =  0.9921\n",
      "Epoch: 13 loss = 0.00557624 train accuracy =  0.9993 test accuracy =  0.9937\n",
      "Epoch: 14 loss = 0.00448780 train accuracy =  0.9995 test accuracy =  0.9937\n",
      "Epoch: 15 loss = 0.00490459 train accuracy =  0.9995 test accuracy =  0.9932\n"
     ]
    }
   ],
   "source": [
    "#Loss Function\n",
    "def loss_fn(model, images, labels):\n",
    "    logits = model(images, training=True)\n",
    "    loss = tf.reduce_mean(tf.keras.losses.categorical_crossentropy(\n",
    "        y_pred=logits, y_true=labels, from_logits=True))     \n",
    "    return loss   \n",
    "\n",
    "# Calculating Gradient\n",
    "def grad(model, images, labels):\n",
    "    with tf.GradientTape() as tape:\n",
    "        loss = loss_fn(model, images, labels)\n",
    "    return tape.gradient(loss, model.variables)\n",
    "\n",
    "# Caculating Model's Accuracy\n",
    "def evaluate(model, images, labels):\n",
    "    logits = model(images, training=False)\n",
    "    correct_prediction = tf.equal(tf.argmax(logits, 1), tf.argmax(labels, 1))\n",
    "    accuracy = tf.reduce_mean(tf.cast(correct_prediction, tf.float32))\n",
    "    return accuracy\n",
    "\n",
    "# select a optimizer\n",
    "optimizer = tf.keras.optimizers.Adam(learning_rate=learning_rate)\n",
    "\n",
    "#Training\n",
    "def train(model, images, labels):\n",
    "    grads = grad(model, images, labels)\n",
    "    optimizer.apply_gradients(zip(grads, model.trainable_variables))\n",
    "\n",
    "#이중 for문으로 학습\n",
    "for epoch in range(epochs):\n",
    "    avg_loss = 0.\n",
    "    avg_train_acc = 0.\n",
    "    avg_test_acc = 0.\n",
    "    train_step = 0\n",
    "    test_step = 0\n",
    "    \n",
    "    for images, labels in train_dataset:\n",
    "        train(model, images, labels)\n",
    "        #grads = grad(model, images, labels)                \n",
    "        #optimizer.apply_gradients(zip(grads, model.variables))\n",
    "        loss = loss_fn(model, images, labels)\n",
    "        acc = evaluate(model, images, labels)\n",
    "        avg_loss = avg_loss + loss\n",
    "        avg_train_acc = avg_train_acc + acc\n",
    "        train_step += 1\n",
    "    avg_loss = avg_loss / train_step\n",
    "    avg_train_acc = avg_train_acc / train_step\n",
    "    \n",
    "    #test_set으로 evaluate하자.\n",
    "    for images, labels in test_dataset:        \n",
    "        acc = evaluate(model, images, labels)        \n",
    "        avg_test_acc = avg_test_acc + acc\n",
    "        test_step += 1    \n",
    "    avg_test_acc = avg_test_acc / test_step    \n",
    "\n",
    "    print('Epoch:', '{}'.format(epoch + 1), 'loss =', '{:.8f}'.format(avg_loss), \n",
    "          'train accuracy = ', '{:.4f}'.format(avg_train_acc), \n",
    "          'test accuracy = ', '{:.4f}'.format(avg_test_acc))"
   ]
  },
  {
   "cell_type": "markdown",
   "id": "2a358947",
   "metadata": {},
   "source": [
    "# 3. Model Subclassing"
   ]
  },
  {
   "cell_type": "markdown",
   "id": "4cb469e9",
   "metadata": {},
   "source": [
    "- operation등을 자유롭게 추가 가능\n",
    "- Create layers in init method -> call method\n",
    "- ensemble 방법 사용이 쉬워짐"
   ]
  },
  {
   "cell_type": "markdown",
   "id": "bf3c62ea",
   "metadata": {},
   "source": [
    "If you are familiar with Object Oriented Programming (OOP), then this method is the most efficient way. By subclassing the Model class: in that case, you should define your layers in __init__ and you should implement the model's forward pass in call."
   ]
  },
  {
   "cell_type": "code",
   "execution_count": 17,
   "id": "0c8b9c37",
   "metadata": {},
   "outputs": [],
   "source": [
    "class MNISTModel(tf.keras.Model): # tf.keras.Model의 하위 클래스임을 선언\n",
    "    #1. init method\n",
    "    def __init__(self):\n",
    "        super(MNISTModel, self).__init__() # init 메서드 호출\n",
    "        \n",
    "        #functional API 방식 사용\n",
    "        self.conv1 = keras.layers.Conv2D(filters=32, kernel_size=[3, 3], padding='SAME', activation=tf.nn.relu)\n",
    "        self.pool1 = keras.layers.MaxPool2D(padding='SAME')\n",
    "        self.conv2 = keras.layers.Conv2D(filters=64, kernel_size=[3, 3], padding='SAME', activation=tf.nn.relu)\n",
    "        self.pool2 = keras.layers.MaxPool2D(padding='SAME')\n",
    "        self.conv3 = keras.layers.Conv2D(filters=128, kernel_size=[3, 3], padding='SAME', activation=tf.nn.relu)\n",
    "        self.pool3 = keras.layers.MaxPool2D(padding='SAME')\n",
    "        self.pool3_flat = keras.layers.Flatten()\n",
    "        self.dense4 = keras.layers.Dense(units=256, activation=tf.nn.relu)\n",
    "        self.drop4 = keras.layers.Dropout(rate=0.4)\n",
    "        self.dense5 = keras.layers.Dense(units=10)\n",
    "\n",
    "    #2. call method (#1과 연결)\n",
    "    def call(self, inputs, training=False): #training 할때 dropout 적용\n",
    "        net = self.conv1(inputs)\n",
    "        net = self.pool1(net) #레이어들이 쭉 연결될 수 있도록함.\n",
    "        net = self.conv2(net)\n",
    "        net = self.pool2(net)\n",
    "        net = self.conv3(net)\n",
    "        net = self.pool3(net)\n",
    "        net = self.pool3_flat(net)\n",
    "        net = self.dense4(net)\n",
    "        net = self.drop4(net)\n",
    "        net = self.dense5(net)\n",
    "        return net"
   ]
  },
  {
   "cell_type": "code",
   "execution_count": 18,
   "id": "174c3e6d",
   "metadata": {
    "scrolled": true
   },
   "outputs": [
    {
     "name": "stdout",
     "output_type": "stream",
     "text": [
      "Model: \"mnist_model\"\n",
      "_________________________________________________________________\n",
      " Layer (type)                Output Shape              Param #   \n",
      "=================================================================\n",
      " conv2d_6 (Conv2D)           multiple                  320       \n",
      "                                                                 \n",
      " max_pooling2d_6 (MaxPooling  multiple                 0         \n",
      " 2D)                                                             \n",
      "                                                                 \n",
      " conv2d_7 (Conv2D)           multiple                  18496     \n",
      "                                                                 \n",
      " max_pooling2d_7 (MaxPooling  multiple                 0         \n",
      " 2D)                                                             \n",
      "                                                                 \n",
      " conv2d_8 (Conv2D)           multiple                  73856     \n",
      "                                                                 \n",
      " max_pooling2d_8 (MaxPooling  multiple                 0         \n",
      " 2D)                                                             \n",
      "                                                                 \n",
      " flatten_2 (Flatten)         multiple                  0         \n",
      "                                                                 \n",
      " dense_4 (Dense)             multiple                  524544    \n",
      "                                                                 \n",
      " dropout_2 (Dropout)         multiple                  0         \n",
      "                                                                 \n",
      " dense_5 (Dense)             multiple                  2570      \n",
      "                                                                 \n",
      "=================================================================\n",
      "Total params: 619,786\n",
      "Trainable params: 619,786\n",
      "Non-trainable params: 0\n",
      "_________________________________________________________________\n"
     ]
    }
   ],
   "source": [
    "#모델 생성\n",
    "model = MNISTModel()\n",
    "temp_inputs = tf.keras.Input(shape=(28, 28, 1))\n",
    "model(temp_inputs)\n",
    "\n",
    "model.summary()"
   ]
  },
  {
   "cell_type": "markdown",
   "id": "c461f1e9",
   "metadata": {},
   "source": [
    "위에서와 같은 과정을 적용해 accuracy를 구할 수 있다."
   ]
  },
  {
   "cell_type": "markdown",
   "id": "1f3a117b",
   "metadata": {},
   "source": [
    "Resources  \n",
    "https://www.youtube.com/watch?v=VkdY-QKD-1Q  \n",
    "https://github.com/deeplearningzerotoall/TensorFlow/blob/master/lab-11-3-mnist-cnn-keras-subclassing-eager.ipynb  \n",
    "https://github.com/deeplearningzerotoall/TensorFlow/blob/master/lab-11-2-mnist-cnn-keras-functional-eager.ipynb  \n",
    "https://github.com/deeplearningzerotoall/TensorFlow/blob/master/lab-11-1-mnist-cnn-keras-sequential-eager.ipynb    \n",
    "https://medium.com/analytics-vidhya/keras-model-sequential-api-vs-functional-api-fc1439a6fb10\n"
   ]
  },
  {
   "cell_type": "code",
   "execution_count": null,
   "id": "f5906f07",
   "metadata": {},
   "outputs": [],
   "source": []
  }
 ],
 "metadata": {
  "kernelspec": {
   "display_name": "Python 3 (ipykernel)",
   "language": "python",
   "name": "python3"
  },
  "language_info": {
   "codemirror_mode": {
    "name": "ipython",
    "version": 3
   },
   "file_extension": ".py",
   "mimetype": "text/x-python",
   "name": "python",
   "nbconvert_exporter": "python",
   "pygments_lexer": "ipython3",
   "version": "3.8.0"
  }
 },
 "nbformat": 4,
 "nbformat_minor": 5
}
